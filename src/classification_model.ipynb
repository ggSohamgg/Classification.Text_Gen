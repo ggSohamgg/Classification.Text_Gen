{
  "nbformat": 4,
  "nbformat_minor": 0,
  "metadata": {
    "colab": {
      "provenance": []
    },
    "kernelspec": {
      "name": "python3",
      "display_name": "Python 3"
    },
    "language_info": {
      "name": "python"
    }
  },
  "cells": [
    {
      "cell_type": "markdown",
      "source": [
        "###Installing Dependencies"
      ],
      "metadata": {
        "id": "QElWzW5cMkhY"
      }
    },
    {
      "cell_type": "code",
      "source": [
        "!pip install tensorflow numpy pandas scikit-learn gdown"
      ],
      "metadata": {
        "collapsed": true,
        "id": "nk0-tYCDlOSw"
      },
      "execution_count": null,
      "outputs": []
    },
    {
      "cell_type": "markdown",
      "source": [
        "### Importing Libraries\n"
      ],
      "metadata": {
        "id": "FwINSCiMMrG5"
      }
    },
    {
      "cell_type": "code",
      "execution_count": null,
      "metadata": {
        "id": "RIn4oZZQkwG9"
      },
      "outputs": [],
      "source": [
        "import tensorflow as tf\n",
        "import numpy as np\n",
        "import pandas as pd\n",
        "import matplotlib.pyplot as plt\n",
        "from sklearn.model_selection import train_test_split\n",
        "from tensorflow.keras.preprocessing.text import Tokenizer\n",
        "from tensorflow.keras.preprocessing.sequence import pad_sequences\n",
        "from sklearn.metrics import classification_report\n",
        "import pickle"
      ]
    },
    {
      "cell_type": "markdown",
      "source": [
        "###Downloading the Dataset"
      ],
      "metadata": {
        "id": "rnQOlDnCNR4p"
      }
    },
    {
      "cell_type": "code",
      "source": [
        "!wget --no-check-certificate \"https://docs.google.com/uc?export=download&id=1-i3ydFccyOoEAlAAUeESomiMfpOCoiia\" -O classification_data.csv"
      ],
      "metadata": {
        "colab": {
          "base_uri": "https://localhost:8080/"
        },
        "id": "hPbapLLrMiOI",
        "outputId": "b24a998e-51f3-4f03-cc6c-05a7ba4cfd6f"
      },
      "execution_count": null,
      "outputs": [
        {
          "output_type": "stream",
          "name": "stdout",
          "text": [
            "--2025-05-09 14:44:45--  https://docs.google.com/uc?export=download&id=1-i3ydFccyOoEAlAAUeESomiMfpOCoiia\n",
            "Resolving docs.google.com (docs.google.com)... 74.125.196.100, 74.125.196.102, 74.125.196.138, ...\n",
            "Connecting to docs.google.com (docs.google.com)|74.125.196.100|:443... connected.\n",
            "HTTP request sent, awaiting response... 303 See Other\n",
            "Location: https://drive.usercontent.google.com/download?id=1-i3ydFccyOoEAlAAUeESomiMfpOCoiia&export=download [following]\n",
            "--2025-05-09 14:44:45--  https://drive.usercontent.google.com/download?id=1-i3ydFccyOoEAlAAUeESomiMfpOCoiia&export=download\n",
            "Resolving drive.usercontent.google.com (drive.usercontent.google.com)... 173.194.212.132, 2607:f8b0:400c:c11::84\n",
            "Connecting to drive.usercontent.google.com (drive.usercontent.google.com)|173.194.212.132|:443... connected.\n",
            "HTTP request sent, awaiting response... 200 OK\n",
            "Length: 42846354 (41M) [application/octet-stream]\n",
            "Saving to: ‘classification_data.csv’\n",
            "\n",
            "classification_data 100%[===================>]  40.86M  56.3MB/s    in 0.7s    \n",
            "\n",
            "2025-05-09 14:44:50 (56.3 MB/s) - ‘classification_data.csv’ saved [42846354/42846354]\n",
            "\n"
          ]
        }
      ]
    },
    {
      "cell_type": "markdown",
      "source": [
        "###Initial Data Exploration"
      ],
      "metadata": {
        "id": "Np_9CRYRNc24"
      }
    },
    {
      "cell_type": "code",
      "source": [
        "combined_df = pd.read_csv('classification_data.csv')"
      ],
      "metadata": {
        "id": "VGukGgrtqmsY"
      },
      "execution_count": null,
      "outputs": []
    },
    {
      "cell_type": "code",
      "source": [
        "combined_df.head()"
      ],
      "metadata": {
        "colab": {
          "base_uri": "https://localhost:8080/",
          "height": 206
        },
        "id": "18j77EXtlYP3",
        "outputId": "c8c36c1a-8ce8-49b3-996a-c55282b87e2e"
      },
      "execution_count": null,
      "outputs": [
        {
          "output_type": "execute_result",
          "data": {
            "text/plain": [
              "                                               train  label\n",
              "0  Like the Buddhists, Jaina scholars produced a ...      2\n",
              "1  1000 BCE onwards, was to classify people (espe...      2\n",
              "2  sin sin ( )x x + α.1 1x x- +.2 sin 2 1 cos 2xx...      1\n",
              "3  ( ) x cf x f cx cx c →-  - -   or lim [ ( )] l...      1\n",
              "4  Write word equations and then balanced equatio...      0"
            ],
            "text/html": [
              "\n",
              "  <div id=\"df-40f4faed-a31b-47ec-934c-3c03db1f5944\" class=\"colab-df-container\">\n",
              "    <div>\n",
              "<style scoped>\n",
              "    .dataframe tbody tr th:only-of-type {\n",
              "        vertical-align: middle;\n",
              "    }\n",
              "\n",
              "    .dataframe tbody tr th {\n",
              "        vertical-align: top;\n",
              "    }\n",
              "\n",
              "    .dataframe thead th {\n",
              "        text-align: right;\n",
              "    }\n",
              "</style>\n",
              "<table border=\"1\" class=\"dataframe\">\n",
              "  <thead>\n",
              "    <tr style=\"text-align: right;\">\n",
              "      <th></th>\n",
              "      <th>train</th>\n",
              "      <th>label</th>\n",
              "    </tr>\n",
              "  </thead>\n",
              "  <tbody>\n",
              "    <tr>\n",
              "      <th>0</th>\n",
              "      <td>Like the Buddhists, Jaina scholars produced a ...</td>\n",
              "      <td>2</td>\n",
              "    </tr>\n",
              "    <tr>\n",
              "      <th>1</th>\n",
              "      <td>1000 BCE onwards, was to classify people (espe...</td>\n",
              "      <td>2</td>\n",
              "    </tr>\n",
              "    <tr>\n",
              "      <th>2</th>\n",
              "      <td>sin sin ( )x x + α.1 1x x- +.2 sin 2 1 cos 2xx...</td>\n",
              "      <td>1</td>\n",
              "    </tr>\n",
              "    <tr>\n",
              "      <th>3</th>\n",
              "      <td>( ) x cf x f cx cx c →-  - -   or lim [ ( )] l...</td>\n",
              "      <td>1</td>\n",
              "    </tr>\n",
              "    <tr>\n",
              "      <th>4</th>\n",
              "      <td>Write word equations and then balanced equatio...</td>\n",
              "      <td>0</td>\n",
              "    </tr>\n",
              "  </tbody>\n",
              "</table>\n",
              "</div>\n",
              "    <div class=\"colab-df-buttons\">\n",
              "\n",
              "  <div class=\"colab-df-container\">\n",
              "    <button class=\"colab-df-convert\" onclick=\"convertToInteractive('df-40f4faed-a31b-47ec-934c-3c03db1f5944')\"\n",
              "            title=\"Convert this dataframe to an interactive table.\"\n",
              "            style=\"display:none;\">\n",
              "\n",
              "  <svg xmlns=\"http://www.w3.org/2000/svg\" height=\"24px\" viewBox=\"0 -960 960 960\">\n",
              "    <path d=\"M120-120v-720h720v720H120Zm60-500h600v-160H180v160Zm220 220h160v-160H400v160Zm0 220h160v-160H400v160ZM180-400h160v-160H180v160Zm440 0h160v-160H620v160ZM180-180h160v-160H180v160Zm440 0h160v-160H620v160Z\"/>\n",
              "  </svg>\n",
              "    </button>\n",
              "\n",
              "  <style>\n",
              "    .colab-df-container {\n",
              "      display:flex;\n",
              "      gap: 12px;\n",
              "    }\n",
              "\n",
              "    .colab-df-convert {\n",
              "      background-color: #E8F0FE;\n",
              "      border: none;\n",
              "      border-radius: 50%;\n",
              "      cursor: pointer;\n",
              "      display: none;\n",
              "      fill: #1967D2;\n",
              "      height: 32px;\n",
              "      padding: 0 0 0 0;\n",
              "      width: 32px;\n",
              "    }\n",
              "\n",
              "    .colab-df-convert:hover {\n",
              "      background-color: #E2EBFA;\n",
              "      box-shadow: 0px 1px 2px rgba(60, 64, 67, 0.3), 0px 1px 3px 1px rgba(60, 64, 67, 0.15);\n",
              "      fill: #174EA6;\n",
              "    }\n",
              "\n",
              "    .colab-df-buttons div {\n",
              "      margin-bottom: 4px;\n",
              "    }\n",
              "\n",
              "    [theme=dark] .colab-df-convert {\n",
              "      background-color: #3B4455;\n",
              "      fill: #D2E3FC;\n",
              "    }\n",
              "\n",
              "    [theme=dark] .colab-df-convert:hover {\n",
              "      background-color: #434B5C;\n",
              "      box-shadow: 0px 1px 3px 1px rgba(0, 0, 0, 0.15);\n",
              "      filter: drop-shadow(0px 1px 2px rgba(0, 0, 0, 0.3));\n",
              "      fill: #FFFFFF;\n",
              "    }\n",
              "  </style>\n",
              "\n",
              "    <script>\n",
              "      const buttonEl =\n",
              "        document.querySelector('#df-40f4faed-a31b-47ec-934c-3c03db1f5944 button.colab-df-convert');\n",
              "      buttonEl.style.display =\n",
              "        google.colab.kernel.accessAllowed ? 'block' : 'none';\n",
              "\n",
              "      async function convertToInteractive(key) {\n",
              "        const element = document.querySelector('#df-40f4faed-a31b-47ec-934c-3c03db1f5944');\n",
              "        const dataTable =\n",
              "          await google.colab.kernel.invokeFunction('convertToInteractive',\n",
              "                                                    [key], {});\n",
              "        if (!dataTable) return;\n",
              "\n",
              "        const docLinkHtml = 'Like what you see? Visit the ' +\n",
              "          '<a target=\"_blank\" href=https://colab.research.google.com/notebooks/data_table.ipynb>data table notebook</a>'\n",
              "          + ' to learn more about interactive tables.';\n",
              "        element.innerHTML = '';\n",
              "        dataTable['output_type'] = 'display_data';\n",
              "        await google.colab.output.renderOutput(dataTable, element);\n",
              "        const docLink = document.createElement('div');\n",
              "        docLink.innerHTML = docLinkHtml;\n",
              "        element.appendChild(docLink);\n",
              "      }\n",
              "    </script>\n",
              "  </div>\n",
              "\n",
              "\n",
              "    <div id=\"df-7b6e54e4-4716-45d9-b66c-50a236f55aa0\">\n",
              "      <button class=\"colab-df-quickchart\" onclick=\"quickchart('df-7b6e54e4-4716-45d9-b66c-50a236f55aa0')\"\n",
              "                title=\"Suggest charts\"\n",
              "                style=\"display:none;\">\n",
              "\n",
              "<svg xmlns=\"http://www.w3.org/2000/svg\" height=\"24px\"viewBox=\"0 0 24 24\"\n",
              "     width=\"24px\">\n",
              "    <g>\n",
              "        <path d=\"M19 3H5c-1.1 0-2 .9-2 2v14c0 1.1.9 2 2 2h14c1.1 0 2-.9 2-2V5c0-1.1-.9-2-2-2zM9 17H7v-7h2v7zm4 0h-2V7h2v10zm4 0h-2v-4h2v4z\"/>\n",
              "    </g>\n",
              "</svg>\n",
              "      </button>\n",
              "\n",
              "<style>\n",
              "  .colab-df-quickchart {\n",
              "      --bg-color: #E8F0FE;\n",
              "      --fill-color: #1967D2;\n",
              "      --hover-bg-color: #E2EBFA;\n",
              "      --hover-fill-color: #174EA6;\n",
              "      --disabled-fill-color: #AAA;\n",
              "      --disabled-bg-color: #DDD;\n",
              "  }\n",
              "\n",
              "  [theme=dark] .colab-df-quickchart {\n",
              "      --bg-color: #3B4455;\n",
              "      --fill-color: #D2E3FC;\n",
              "      --hover-bg-color: #434B5C;\n",
              "      --hover-fill-color: #FFFFFF;\n",
              "      --disabled-bg-color: #3B4455;\n",
              "      --disabled-fill-color: #666;\n",
              "  }\n",
              "\n",
              "  .colab-df-quickchart {\n",
              "    background-color: var(--bg-color);\n",
              "    border: none;\n",
              "    border-radius: 50%;\n",
              "    cursor: pointer;\n",
              "    display: none;\n",
              "    fill: var(--fill-color);\n",
              "    height: 32px;\n",
              "    padding: 0;\n",
              "    width: 32px;\n",
              "  }\n",
              "\n",
              "  .colab-df-quickchart:hover {\n",
              "    background-color: var(--hover-bg-color);\n",
              "    box-shadow: 0 1px 2px rgba(60, 64, 67, 0.3), 0 1px 3px 1px rgba(60, 64, 67, 0.15);\n",
              "    fill: var(--button-hover-fill-color);\n",
              "  }\n",
              "\n",
              "  .colab-df-quickchart-complete:disabled,\n",
              "  .colab-df-quickchart-complete:disabled:hover {\n",
              "    background-color: var(--disabled-bg-color);\n",
              "    fill: var(--disabled-fill-color);\n",
              "    box-shadow: none;\n",
              "  }\n",
              "\n",
              "  .colab-df-spinner {\n",
              "    border: 2px solid var(--fill-color);\n",
              "    border-color: transparent;\n",
              "    border-bottom-color: var(--fill-color);\n",
              "    animation:\n",
              "      spin 1s steps(1) infinite;\n",
              "  }\n",
              "\n",
              "  @keyframes spin {\n",
              "    0% {\n",
              "      border-color: transparent;\n",
              "      border-bottom-color: var(--fill-color);\n",
              "      border-left-color: var(--fill-color);\n",
              "    }\n",
              "    20% {\n",
              "      border-color: transparent;\n",
              "      border-left-color: var(--fill-color);\n",
              "      border-top-color: var(--fill-color);\n",
              "    }\n",
              "    30% {\n",
              "      border-color: transparent;\n",
              "      border-left-color: var(--fill-color);\n",
              "      border-top-color: var(--fill-color);\n",
              "      border-right-color: var(--fill-color);\n",
              "    }\n",
              "    40% {\n",
              "      border-color: transparent;\n",
              "      border-right-color: var(--fill-color);\n",
              "      border-top-color: var(--fill-color);\n",
              "    }\n",
              "    60% {\n",
              "      border-color: transparent;\n",
              "      border-right-color: var(--fill-color);\n",
              "    }\n",
              "    80% {\n",
              "      border-color: transparent;\n",
              "      border-right-color: var(--fill-color);\n",
              "      border-bottom-color: var(--fill-color);\n",
              "    }\n",
              "    90% {\n",
              "      border-color: transparent;\n",
              "      border-bottom-color: var(--fill-color);\n",
              "    }\n",
              "  }\n",
              "</style>\n",
              "\n",
              "      <script>\n",
              "        async function quickchart(key) {\n",
              "          const quickchartButtonEl =\n",
              "            document.querySelector('#' + key + ' button');\n",
              "          quickchartButtonEl.disabled = true;  // To prevent multiple clicks.\n",
              "          quickchartButtonEl.classList.add('colab-df-spinner');\n",
              "          try {\n",
              "            const charts = await google.colab.kernel.invokeFunction(\n",
              "                'suggestCharts', [key], {});\n",
              "          } catch (error) {\n",
              "            console.error('Error during call to suggestCharts:', error);\n",
              "          }\n",
              "          quickchartButtonEl.classList.remove('colab-df-spinner');\n",
              "          quickchartButtonEl.classList.add('colab-df-quickchart-complete');\n",
              "        }\n",
              "        (() => {\n",
              "          let quickchartButtonEl =\n",
              "            document.querySelector('#df-7b6e54e4-4716-45d9-b66c-50a236f55aa0 button');\n",
              "          quickchartButtonEl.style.display =\n",
              "            google.colab.kernel.accessAllowed ? 'block' : 'none';\n",
              "        })();\n",
              "      </script>\n",
              "    </div>\n",
              "\n",
              "    </div>\n",
              "  </div>\n"
            ],
            "application/vnd.google.colaboratory.intrinsic+json": {
              "type": "dataframe",
              "variable_name": "combined_df",
              "summary": "{\n  \"name\": \"combined_df\",\n  \"rows\": 15051,\n  \"fields\": [\n    {\n      \"column\": \"train\",\n      \"properties\": {\n        \"dtype\": \"string\",\n        \"num_unique_values\": 13982,\n        \"samples\": [\n          \"Global North and Global South are terms that denote a method of grouping countries based on their defining characteristics with regard to socioeconomics and politics. According to UN Trade and Development (UNCTAD), the Global South broadly comprises Africa, Latin America and the Caribbean, Asia (excluding Israel, Japan, and South Korea), and Oceania (excluding Australia and New Zealand). Most of the Global South's countries are commonly identified as lacking in their standard of living, which includes having lower incomes, high levels of poverty, high population growth rates, inadequate housing, limited educational opportunities, and deficient health systems, among other issues. Additionally, these countries' cities are characterized by their poor infrastructure. Opposite to the Global South is the Global North, which the UNCTAD describes as broadly comprising Northern America and Europe, Israel, Japan, South Korea, Australia, and New Zealand. As such, the two terms do not refer to the Northern Hemisphere or the Southern Hemisphere, as many of the Global South's countries are geographically located in the former and, similarly, a number of the Global North's countries are geographically located in the latter.\\n\\nMore specifically, the Global North consists of the world's developed countries, whereas the Global South consists of the world's  developing countries and least developed countries. The Global South classification, as used by governmental and developmental organizations, was first introduced as a more open and value-free alternative to \\u201cThird World\\u201d, and likewise potentially \\u201cvaluing\\u201d terms such as developed and developing. Countries of the Global South have also been described as being newly industrialized or in the process of industrializing, many of them are current or former subjects of colonialism.\\n\\nThe Global North and the Global South are often defined in terms of their differing levels of wealth, economic development, income inequality, and strength of democracy, as well as by their political freedom and economic freedom, as defined by a variety of freedom indices. Countries of the Global North tend to be wealthier, and capable of exporting technologically advanced manufactured products, among other characteristics. In contrast, countries of the Global South tend to be poorer, and heavily dependent on their largely agrarian-based economic primary sectors. Some scholars have suggested that the inequality gap between the Global North and the Global South has been narrowing due to the effects of globalization. Other scholars have disputed this position, suggesting that the Global South has instead become poorer vis-\\u00e0-vis the Global North in this same timeframe.\\n\\nSince World War II, the phenomenon of \\u201cSouth\\u2013South cooperation\\u201d (SSC) to \\u201cchallenge the political and economic dominance of the North\\u201d has become more prominent among the Global South's countries. It has become popular in light of the geographical migration of manufacturing and production activity from the Global North to the Global South, and has since influenced the diplomatic policies of the Global South\\u2019s more powerful countries, such as China. Thus, these contemporary economic trends have \\u201cenhanced the historical potential of economic growth and industrialization in the Global South\\u201d amidst renewed targeted efforts by the SSC to \\u201cloosen the strictures imposed during the colonial era, and transcend the boundaries of postwar political and economic geography\\u201d as an aspect of decolonization.\\n\\nDefinition \\n\\nThe terms \\\"Global North\\\" and \\\"Global South\\\" are not strictly geographical, and are not \\\"an image of the world divided by the equator, separating richer countries from their poorer counterparts.\\\" Rather, geography should be more readily understood as economic and migratory, in the \\\"wider context of globalization or global capitalism.\\\"\\n\\nIn general, definitions for Global North and Global South, do not refer to the geographical North or the geographical South. The Global North broadly comprises Northern America and Europe, Israel, Japan, South Korea, Australia, and New Zealand, as per the UNCTAD. The Global South broadly comprises Africa, Latin America and the Caribbean, Asia excluding Israel, Japan, and South Korea, and Oceania excluding Australia and New Zealand, also according to the UNCTAD. Some, such as Australian sociologists Fran Collyer and  Raewyn Connell, have argued that Australia and New Zealand are marginalized in similar ways to other Global South countries, due to their geographical isolation and location in the Southern Hemisphere.\\n\\nThe term Global North is often used interchangeably with developed countries, whereas the term Global South with developing countries.\\nCharacteristically, most countries in the Global South are commonly identified as lacking in their standard of living, these include having: lower incomes, high levels of poverty, high population growth rates, limited educational opportunities, deficient health care systems, among other issues. Also, cities in the Global South are identified for their poor infrastructure. Economies of the Global North are diversified, whereas agriculture sector happens to be the major contributor of economy activity in the Global South.\\n\\nDevelopment of the terms \\n\\nCarl Oglesby used the term \\\"global south\\\" in 1969, writing in Catholic journal Commonweal in a special issue on the Vietnam War. Oglesby argued that centuries of northern \\\"dominance over the global south [\\u2026] [has] converged [\\u2026] to produce an intolerable social order.\\\"\\n\\nThe term gained appeal throughout the second half of the 20th century, which rapidly accelerated in the early 21st century. It appeared in fewer than two dozen publications in 2004, but in hundreds of publications by 2013. The emergence of the new term meant looking at the troubled realities of its predecessors, i.e.: Third World or Developing World. The term \\\"Global South\\\", in contrast, was intended to be less hierarchical.\\n\\nThe idea of categorizing countries by their economic and developmental status began during the Cold War with the classifications of East and West. The Soviet Union and China represented the East, and the United States and their allies represented the West. The term Third World came into parlance in the second half of the twentieth century. It originated in a 1952 article by Alfred Sauvy entitled \\\"Trois Mondes, Une Plan\\u00e8te\\\". Early definitions of the Third World emphasized its exclusion from the east\\u2013west conflict of the Cold War as well as the ex-colonial status and poverty of the peoples it comprised.\\n\\nEfforts to mobilize the Third World as an autonomous political entity were undertaken. The 1955 Bandung Conference was an early meeting of Third World states in which an alternative to alignment with either the Eastern or Western Blocs was promoted. Following this, the first Non-Aligned Summit was organized in 1961. Contemporaneously, a mode of economic criticism which separated the world economy into \\\"core\\\" and \\\"periphery\\\" was developed and given expression in a project for political reform which \\\"moved the terms 'North' and 'South' into the international political lexicon.\\\"\\n\\nIn 1973, the pursuit of a New International Economic Order which was to be negotiated between the North and South was initiated at the Non-Aligned Summit held in Algiers. Also in 1973, the oil embargo initiated by Arab OPEC countries as a result of the Yom Kippur War caused an increase in world oil prices, with prices continuing to rise throughout the decade. This contributed to a worldwide recession which resulted in industrialized nations increasing economically protectionist policies and contributing less aid to the less developed countries of the South. The slack was taken up by Western banks, which provided substantial loans to Third World countries. However, many of these countries were not able to pay back their debt, which led the IMF to extend further loans to them on the condition that they undertake certain liberalizing reforms. This policy, which came to be known as structural adjustment, and was institutionalized by International Financial Institutions (IFIs) and Western governments, represented a break from the Keynesian approach to foreign aid which had been the norm from the end of the Second World War.\\n\\nAfter 1987, reports on the negative social impacts that structural adjustment policies had had on affected developing nations led IFIs to supplement structural adjustment policies with targeted anti-poverty projects. Following the end of the Cold War and the break-up of the Soviet Union, some Second World countries joined the First World, and others joined the Third World. A new and simpler classification was needed. Use of the terms \\\"North\\\" and \\\"South\\\" became more widespread.\\n\\nBrandt Line \\n\\nThe Brandt Line is a visual depiction of the north\\u2013south divide, proposed by West German former Chancellor Willy Brandt in the 1980s in the report titled North-South: A Programme for Survival which was later known as the Brandt Report. This line divides the world at a latitude of approximately 30\\u00b0 North, passing between the United States and Mexico, north of Africa and the Middle East, climbing north over China and Mongolia, then dipping south to include Japan, Australia, and New Zealand in the \\\"Rich North\\\". As of 2023 the Brandt line has been criticised for being outdated, yet is still regarded as a helpful way to visualise global inequalities.\\n\\nUses of the term Global South \\nGlobal South \\\"emerged in part to aid countries in the southern hemisphere to work in collaboration on political, economic, social, environmental, cultural, and technical issues.\\\" This is called South\\u2013South cooperation (SSC), a \\\"political and economical term that refers to the long-term goal of pursuing world economic changes that mutually benefit countries in the Global South and lead to greater solidarity among the disadvantaged in the world system.\\\" The hope is that countries within the Global South will \\\"assist each other in social, political, and economical development, radically altering the world system to reflect their interests and not just the interests of the Global North in the process.\\\" It is guided by the principles of \\\"respect for national sovereignty, national ownership, independence, equality, non-conditionality, non-interference in domestic affairs, and mutual benefit.\\\" Countries using this model of South\\u2013South cooperation see it as a \\\"mutually beneficial relationship that spreads knowledge, skills, expertise and resources to address their development challenges such as high population pressure, poverty, hunger, disease, environmental deterioration, conflict and natural disasters.\\\" These countries also work together to deal with \\\"cross border issues such as environmental protection, HIV/AIDS\\\", and the movement of capital and labor.\\n\\nSocial psychiatrist Vincenzo Di Nicola has applied the Global South as a bridge between the critiques globalization and the gaps and limitations of the Global Mental Health Movement, invoking Boaventura de Sousa Santos' notion of \\\"epistemologies of the South\\\" to create a new epistemology for social psychiatry.\\n\\nDefining development \\nThe Dictionary of Human Geography defines development as \\\"processes of social change or [a change] to class and state projects to transform national economies\\\".\\n\\nEconomic development is a measure of progress in a specific economy. It refers to advancements in technology, a transition from an economy based largely on agriculture to one based on industry and an improvement in living standards.\\n\\nBeing categorized as part of the \\\"North\\\" implies development as opposed to belonging to the \\\"South\\\", which implies a lack thereof. According to N. Oluwafemi Mimiko, the South lacks the right technology, it is politically unstable, its economies are divided, and its foreign exchange earnings depend on primary product exports to the North, along with the fluctuation of prices. The low level of control it exercises over imports and exports condemns the South to conform to the 'imperialist' system. The South's lack of development and the high level of development of the North deepen the inequality between them and leave the South a source of raw material for the developed countries. The North becomes synonymous with economic development and industrialization while the South represents the previously colonized countries which are in need of help in the form of international aid agendas.\\n\\nFurthermore, in Regionalism Across the North-South Divide: State Strategies and Globalization, Jean Grugel stated that the three factors that direct the economic development of states in the Global south are \\\"\\u00e9lite behaviour within and between nation states, integration and cooperation within 'geographic' areas, and the resulting position of states and regions within the global world market and related political economic hierarchy.\\\"\\n\\nTheories explaining the divide \\nThe development disparity between the North and the South has sometimes been explained in historical terms. Dependency theory looks back on the patterns of colonial relations which persisted between the North and South and emphasizes how colonized territories tended to be impoverished by those relations. Theorists of this school maintain that the economies of ex-colonial states remain oriented towards serving external rather than internal demand, and that development regimes undertaken in this context have tended to reproduce in underdeveloped countries the pronounced class hierarchies found in industrialized countries while maintaining higher levels of poverty. Dependency theory is closely intertwined with Latin American Structuralism, the only school of development economics emerging from the Global South to be affiliated with a national research institute and to receive support from national banks and finance ministries. The Structuralists defined dependency as the inability of a nation's economy to complete the cycle of capital accumulation without reliance on an outside economy. More specifically, peripheral nations were perceived as primary resource exporters reliant on core economies for manufactured goods. This led structuralists to advocate for import-substitution industrialization policies which aimed to replace manufactured imports with domestically made products.\\n\\nNew Economic Geography explains development disparities in terms of the physical organization of industry, arguing that firms tend to cluster in order to benefit from economies of scale and increase productivity which leads ultimately to an increase in wages. The North has more firm clustering than the South, making its industries more competitive. It is argued that only when wages in the North reach a certain height, will it become more profitable for firms to operate in the South, allowing clustering to begin.\\n\\nAssociated theories \\nThe term of the Global South has many researched theories associated with it. Since many of the countries that are considered to be a part of the Global South were once colonized by Global North countries, they are at a disadvantage to become as quickly developed. Dependency theorists suggest that information has a top-down approach and first goes to the Global North before countries in the Global South receive it. Although many of these countries rely on political or economic help, this also opens up opportunity for information to develop Western bias and create an academic dependency. Meneleo Litonjua describes the reasoning behind distinctive problems of dependency theory as \\\"the basic context of poverty and underdevelopment of Third World/Global South countries was not their traditionalism, but the dominance-dependence relationship between rich and poor, powerful and weak counties.\\\"\\n\\nWhat brought about much of the dependency, was the push to become modernized. After World War II, the U.S. made effort to assist developing countries financially in attempt to pull them out of poverty. Modernization theory \\\"sought to remake the Global South in the image and likeliness of the First World/Global North.\\\" In other terms, \\\"societies can be fast-tracked to modernization by 'importing' Western technical capital, forms of organization, and science and technology to developing countries.\\\" With this ideology, as long as countries follow in Western ways, they can develop quicker.\\n\\nAfter modernization attempts took place, theorists started to question the effects through post-development perspectives. Postdevelopment theorists try to explain that not all developing countries need to be following Western ways but instead should create their own development plans. This means that \\\"societies at the local level should be allowed to pursue their own development path as they perceive it without the influences of global capital and other modern choices, and thus a rejection of the entire paradigm from Eurocentric model and the advocation of new ways of thinking about the non-Western societies.\\\" The goals of postdevelopment was to reject development rather than reform by choosing to embrace non-Western ways.\\n\\nChallenges \\n\\nThe accuracy of the North\\u2013South divide has been challenged on a number of grounds. Firstly, differences in the political, economic and demographic make-up of countries tend to complicate the idea of a monolithic South. Globalization has also challenged the notion of two distinct economic spheres. Following the liberalization of post-Mao China initiated in 1978, growing regional cooperation between the national economies of Asia has led to the growing decentralization of the North as the main economic power. The economic status of the South has also been fractured. As of 2015, all but roughly the bottom 60 nations of the Global South were thought to be gaining on the North in terms of income, diversification, and participation in the world market.\\n\\nHowever, other scholars, notably Jason Hickel and Robert Wade have suggested that the Global South is not rising economically, and that global inequality between the North and South has risen since globalization. Hickel has suggested that the exchange of resources between the South and the North is substantially unbalanced in favor of the North, with Global North countries extracting a windfall of over 240 trillion dollars from the Global South in 2015. This figure outstrips the amount of financial aid given to Global South by a factor of 30.\\n\\nGlobalization has largely displaced the North\\u2013South divide as the theoretical underpinning of the development efforts of international institutions such as the IMF, World Bank, WTO, and various United Nations affiliated agencies, though these groups differ in their perceptions of the relationship between globalization and inequality. Yet some remain critical of the accuracy of globalization as a model of the world economy, emphasizing the enduring centrality of nation-states in world politics and the prominence of regional trade relations. Lately, there have been efforts to integrate the Global South more meaningfully into the world economic order.\\n\\nThe divide between the North and South challenges international environmental cooperation. The economic differences between North and South have created dispute over the scientific evidence and data regarding global warming and what needs to be done about it, as the South do not trust Northern data and cannot afford the technology to be able to produce their own. In addition to these disputes, there are serious divisions over responsibility, who pays, and the possibility for the South to catch up. This is becoming an ever-growing issue with the emergence of rising powers, imploding these three divisions just listed and making them progressively blurry. Multiplicity of actors, such as governments, businesses, and NGO's all influence any positive activity that can be taken into preventing further global warming problems with the Global North and Global South divide, contributing to the severity of said actors. Disputes between Northern countries governments and Southern countries governments has led to a breakdown in international discussions with governments from either side disagreeing with each other. Addressing most environmental problems requires international cooperation, and the North and South contribute to the stagnation concerning any form of implementation and enforcement, which remains a key issue.\\n\\nDebates over the term \\nWith its development, many scholars preferred using the Global South over its predecessors, such as \\\"developing countries\\\" and \\\"Third World\\\". Leigh Anne Duck, co-editor of Global South, argued that the term is better suited at resisting \\\"hegemonic forces that threaten the autonomy and development of these countries.\\\" The Global South / Global North distinction has been preferred to the older developed / developing dichotomy as it does not imply a hierarchy. Alvaro Mendez, co-founder of the London School of Economics and Political Science's Global South Unit, have applauded the empowering aspects of the term. In an article, Discussion on Global South, Mendez discusses emerging economies in nations like China, India and Brazil. It is predicted that by 2030, 80% of the world's middle-class population will be living in developing countries. The popularity of the term \\\"marks a shift from a central focus on development and cultural difference\\\" and recognizes the importance of geopolitical relations.\\n\\nCritics of this usage often argue that it is a vague blanket term. Others have argued that the term, its usage, and its subsequent consequences mainly benefit those from the upper classes of countries within the Global South; who stand \\\"to profit from the political and economic reality [of] expanding south-south relations.\\\"\\n\\nAccording to scholar Anne Garland Mahler, this nation-based understanding of the Global South is regarded as an appropriation of a concept that has deeper roots in Cold War radical political thought. In this political usage, the Global South is employed in a more geographically fluid way, referring to \\\"spaces and peoples negatively impacted by contemporary capitalist globalization.\\\" In other words, \\\"there are economic Souths in the geographic North and Norths in the geographic South.\\\" Through this geographically fluid definition, another meaning is attributed to the Global South where it refers to a global political community that is formed when the world's \\\"Souths\\\" recognize one another and view their conditions as shared.\\n\\nThe geographical boundaries of the Global South remain a source of debate. Some scholars agree that the term is not a \\\"static concept\\\". Others have argued against \\\"grouping together a large variety of countries and regions into one category [because it] tends to obscure specific (historical) relationships between different countries and/or regions\\\", and the power imbalances within these relationships. This \\\"may obscure wealth differences within countries \\u2013 and, therefore, similarities between the wealthy in the Global South and Global North, as well as the dire situation the poor may face all around the world.\\\"\\n\\nFuture development \\n\\nSome economists have argued that international free trade and unhindered capital flows across countries could lead to a contraction in the North\\u2013South divide. In this case more equal trade and flow of capital would allow the possibility for developing countries to further develop economically.\\n\\nAs some countries in the South experience rapid development, there is evidence that those states are developing high levels of South\\u2013South aid. Brazil, in particular, has been noted for its high levels of aid ($1 billion annually\\u2014ahead of many traditional donors) and the ability to use its own experiences to provide high levels of expertise and knowledge transfer. This has been described as a \\\"global model in waiting\\\".\\n\\nThe United Nations has also established its role in diminishing the divide between North and South through the Millennium Development Goals, all of which were to be achieved by 2015. These goals seek to eradicate extreme poverty and hunger, achieve global universal education and healthcare, promote gender equality and empower women, reduce child mortality, improve maternal health, combat HIV/AIDS, malaria, and other diseases, ensure environmental sustainability, and develop a global partnership for development. These were replaced in 2015 by 17 Sustainable Development Goals (SDGs). The SDGs, set in 2015 by the United Nations General Assembly and intended to be achieved by 2030, are part of a UN Resolution called \\\"The 2030 Agenda\\\".\\n\\nSociety and culture\\n\\nDigital and technological divide \\nThe global digital divide is often characterized as corresponding to the north\\u2013south divide; however, Internet use, and especially broadband access, is now soaring in Asia compared with other continents. This phenomenon is partially explained by the ability of many countries in Asia to leapfrog older Internet technology and infrastructure, coupled with booming economies which allow vastly more people to get online.\\n\\nMedia representation \\nMass media has often compared the Global South to the North, and is thought to be an aid in the divide. Western media tends to present a generalized view of developing countries through biased media coverage, mass media outlets tend to focus disproportionately on poverty and other negative imagery. This common coverage has created a dominant stereotype of developing countries as: \\\"the 'South' is characterized by socioeconomic and political backwardness, measured against Western values and standards.\\\" \\n\\nMass media has also played a role in what information the people in developing countries receive. The news often covers developed countries and creates an imbalance of information flow.\\n\\nSee also \\n BRICS, CIVETS, MINT, VISTA\\n East\\u2013West dichotomy\\n Global West\\n Global East\\n First World\\n Global majority, roughly corresponding to Global South peoples\\n Golden billion\\n Group of 77\\n Inglehart\\u2013Welzel cultural map of the world\\n International Solar Alliance\\n Non-Aligned Movement\\n North\\u2013South Centre, an institution of the Council of Europe, awarding the North\\u2013South Prize\\n North\\u2013South model, in economics theory\\n North\\u2013South Summit, the only North\\u2013South summit ever held, with 22 heads of state and government taking part\\n Northern and southern China\\n Three-world model\\n World-systems theory\\n Fourth World\\n\\nSubregions of Global North \\n\\n Arctic Circle\\n Global Northwest\\n North Atlantic\\n NATO\\n North Pacific\\n\\nSubregions of Global South \\n\\n Afro-Asia\\n Global Southeast\\n\\nNotes\\n\\nReferences\\n\\nExternal links \\n\\nShare The World's Resources: The Brandt Commission Report, a 1980 report by a commission led by Willy Brandt that popularized the terminology\\nBrandt 21 Forum, a recreation of the original commission with an updated report (information on original commission at site)\\n\\nDemographics\\nDichotomies\\nEconomic country classifications\\nEconomic globalization\\nImperialism studies\\nGeographical neologisms\\nPopulation geography\\n1960s neologisms\\nEconomic geography\",\n          \"This is known as regeneration (see Fig\",\n          \"However , we only state them as their proofs are beyond the scope of this text book\"\n        ],\n        \"semantic_type\": \"\",\n        \"description\": \"\"\n      }\n    },\n    {\n      \"column\": \"label\",\n      \"properties\": {\n        \"dtype\": \"number\",\n        \"std\": 0,\n        \"min\": 0,\n        \"max\": 2,\n        \"num_unique_values\": 3,\n        \"samples\": [\n          2,\n          1,\n          0\n        ],\n        \"semantic_type\": \"\",\n        \"description\": \"\"\n      }\n    }\n  ]\n}"
            }
          },
          "metadata": {},
          "execution_count": 5
        }
      ]
    },
    {
      "cell_type": "markdown",
      "source": [
        "###Data Handling"
      ],
      "metadata": {
        "id": "xKtfRcFDN3Z2"
      }
    },
    {
      "cell_type": "code",
      "source": [
        "combined_df['train'] = combined_df['train'].fillna('')  # Replace NaN with empty string\n",
        "combined_df['train'] = combined_df['train'].astype(str)  # Convert all values to strings"
      ],
      "metadata": {
        "id": "Ka6gUZGHmnHe"
      },
      "execution_count": null,
      "outputs": []
    },
    {
      "cell_type": "code",
      "source": [
        "texts = combined_df['train'].values\n",
        "labels = combined_df['label'].values"
      ],
      "metadata": {
        "id": "yzGGm4HJlkCG"
      },
      "execution_count": null,
      "outputs": []
    },
    {
      "cell_type": "code",
      "source": [
        "X_train, X_test, y_train, y_test = train_test_split(texts, labels, test_size=0.2, random_state=41)"
      ],
      "metadata": {
        "id": "ncg_4U7jlohk"
      },
      "execution_count": null,
      "outputs": []
    },
    {
      "cell_type": "code",
      "source": [
        "max_words = 3000\n",
        "max_sequence_length = 400"
      ],
      "metadata": {
        "id": "v-9Ekr8iltzl"
      },
      "execution_count": null,
      "outputs": []
    },
    {
      "cell_type": "markdown",
      "source": [
        "##Tokenizer Initialization and Fitting"
      ],
      "metadata": {
        "id": "sqh-q2AZN-Z2"
      }
    },
    {
      "cell_type": "code",
      "source": [
        "tokenizer = Tokenizer(num_words=max_words)\n",
        "tokenizer.fit_on_texts(X_train)"
      ],
      "metadata": {
        "id": "rlMEujUrmLqY"
      },
      "execution_count": null,
      "outputs": []
    },
    {
      "cell_type": "code",
      "source": [
        "with open(\"classifier_tokenizer.pkl\", \"wb\") as f:\n",
        "    pickle.dump(tokenizer, f) #Saves the tokenizer"
      ],
      "metadata": {
        "id": "Trw8LleqQHl5"
      },
      "execution_count": null,
      "outputs": []
    },
    {
      "cell_type": "code",
      "source": [
        "X_train_seq = tokenizer.texts_to_sequences(X_train)\n",
        "X_test_seq = tokenizer.texts_to_sequences(X_test)\n",
        "\n",
        "# Pad sequences\n",
        "X_train_pad = pad_sequences(X_train_seq, maxlen=max_sequence_length)\n",
        "X_test_pad = pad_sequences(X_test_seq, maxlen=max_sequence_length)\n",
        "\n",
        "# Convert labels to categorical\n",
        "y_train_cat = tf.keras.utils.to_categorical(y_train, num_classes=3)\n",
        "y_test_cat = tf.keras.utils.to_categorical(y_test, num_classes=3)"
      ],
      "metadata": {
        "id": "1fem9AAlluae"
      },
      "execution_count": null,
      "outputs": []
    },
    {
      "cell_type": "markdown",
      "source": [
        "###Model Building"
      ],
      "metadata": {
        "id": "LaBGxIjlOIlA"
      }
    },
    {
      "cell_type": "code",
      "source": [
        "def build_model(vocab_size, max_sequence_length):\n",
        "    model = tf.keras.Sequential([\n",
        "        # Embedding layer with increased output dimension\n",
        "        tf.keras.layers.Embedding(input_dim=vocab_size, output_dim=256,\n",
        "                                 input_shape=(max_sequence_length,)),\n",
        "\n",
        "        # First Bidirectional LSTM with more units\n",
        "        tf.keras.layers.Bidirectional(tf.keras.layers.LSTM(128, return_sequences=True, dropout=0.3)),\n",
        "\n",
        "        # Second Bidirectional LSTM with dropout\n",
        "        tf.keras.layers.Bidirectional(tf.keras.layers.LSTM(64, dropout=0.3)),\n",
        "\n",
        "        # Dense layer with adjusted units\n",
        "        tf.keras.layers.Dense(128, activation='relu'),\n",
        "        tf.keras.layers.Dropout(0.4),\n",
        "\n",
        "        # Output layer\n",
        "        tf.keras.layers.Dense(3, activation='softmax')\n",
        "    ])\n",
        "\n",
        "    model.compile(\n",
        "        loss='categorical_crossentropy',\n",
        "        optimizer = tf.keras.optimizers.AdamW(\n",
        "        learning_rate=1.5e-4,\n",
        "        weight_decay=0.003,  # Applies weight decay directly to weights\n",
        "        beta_1=0.9,\n",
        "        beta_2=0.999),\n",
        "        metrics=['accuracy']\n",
        "    )\n",
        "\n",
        "    return model"
      ],
      "metadata": {
        "id": "8Of8VOZ5nWoy"
      },
      "execution_count": null,
      "outputs": []
    },
    {
      "cell_type": "markdown",
      "source": [
        "###Overview of the layers, output shapes, and number of parameters."
      ],
      "metadata": {
        "id": "Hs5RMBYwOZTG"
      }
    },
    {
      "cell_type": "code",
      "source": [
        "vocab_size = min(len(tokenizer.word_index) + 1, max_words)  # +1 for padding token\n",
        "model = build_model(vocab_size, max_sequence_length)\n",
        "\n",
        "# Build the model by calling it with a sample input shape\n",
        "model.build((None, max_sequence_length))\n",
        "model.summary()"
      ],
      "metadata": {
        "colab": {
          "base_uri": "https://localhost:8080/",
          "height": 409
        },
        "id": "lCdJcBjYnYJ4",
        "outputId": "e1c6f347-be8f-45bd-d5fa-052e7608dc38"
      },
      "execution_count": null,
      "outputs": [
        {
          "output_type": "stream",
          "name": "stderr",
          "text": [
            "/usr/local/lib/python3.11/dist-packages/keras/src/layers/core/embedding.py:93: UserWarning: Do not pass an `input_shape`/`input_dim` argument to a layer. When using Sequential models, prefer using an `Input(shape)` object as the first layer in the model instead.\n",
            "  super().__init__(**kwargs)\n"
          ]
        },
        {
          "output_type": "display_data",
          "data": {
            "text/plain": [
              "\u001b[1mModel: \"sequential_8\"\u001b[0m\n"
            ],
            "text/html": [
              "<pre style=\"white-space:pre;overflow-x:auto;line-height:normal;font-family:Menlo,'DejaVu Sans Mono',consolas,'Courier New',monospace\"><span style=\"font-weight: bold\">Model: \"sequential_8\"</span>\n",
              "</pre>\n"
            ]
          },
          "metadata": {}
        },
        {
          "output_type": "display_data",
          "data": {
            "text/plain": [
              "┏━━━━━━━━━━━━━━━━━━━━━━━━━━━━━━━━━┳━━━━━━━━━━━━━━━━━━━━━━━━┳━━━━━━━━━━━━━━━┓\n",
              "┃\u001b[1m \u001b[0m\u001b[1mLayer (type)                   \u001b[0m\u001b[1m \u001b[0m┃\u001b[1m \u001b[0m\u001b[1mOutput Shape          \u001b[0m\u001b[1m \u001b[0m┃\u001b[1m \u001b[0m\u001b[1m      Param #\u001b[0m\u001b[1m \u001b[0m┃\n",
              "┡━━━━━━━━━━━━━━━━━━━━━━━━━━━━━━━━━╇━━━━━━━━━━━━━━━━━━━━━━━━╇━━━━━━━━━━━━━━━┩\n",
              "│ embedding_8 (\u001b[38;5;33mEmbedding\u001b[0m)         │ (\u001b[38;5;45mNone\u001b[0m, \u001b[38;5;34m400\u001b[0m, \u001b[38;5;34m256\u001b[0m)       │       \u001b[38;5;34m768,000\u001b[0m │\n",
              "├─────────────────────────────────┼────────────────────────┼───────────────┤\n",
              "│ bidirectional_16                │ (\u001b[38;5;45mNone\u001b[0m, \u001b[38;5;34m400\u001b[0m, \u001b[38;5;34m256\u001b[0m)       │       \u001b[38;5;34m394,240\u001b[0m │\n",
              "│ (\u001b[38;5;33mBidirectional\u001b[0m)                 │                        │               │\n",
              "├─────────────────────────────────┼────────────────────────┼───────────────┤\n",
              "│ bidirectional_17                │ (\u001b[38;5;45mNone\u001b[0m, \u001b[38;5;34m128\u001b[0m)            │       \u001b[38;5;34m164,352\u001b[0m │\n",
              "│ (\u001b[38;5;33mBidirectional\u001b[0m)                 │                        │               │\n",
              "├─────────────────────────────────┼────────────────────────┼───────────────┤\n",
              "│ dense_16 (\u001b[38;5;33mDense\u001b[0m)                │ (\u001b[38;5;45mNone\u001b[0m, \u001b[38;5;34m128\u001b[0m)            │        \u001b[38;5;34m16,512\u001b[0m │\n",
              "├─────────────────────────────────┼────────────────────────┼───────────────┤\n",
              "│ dropout_8 (\u001b[38;5;33mDropout\u001b[0m)             │ (\u001b[38;5;45mNone\u001b[0m, \u001b[38;5;34m128\u001b[0m)            │             \u001b[38;5;34m0\u001b[0m │\n",
              "├─────────────────────────────────┼────────────────────────┼───────────────┤\n",
              "│ dense_17 (\u001b[38;5;33mDense\u001b[0m)                │ (\u001b[38;5;45mNone\u001b[0m, \u001b[38;5;34m3\u001b[0m)              │           \u001b[38;5;34m387\u001b[0m │\n",
              "└─────────────────────────────────┴────────────────────────┴───────────────┘\n"
            ],
            "text/html": [
              "<pre style=\"white-space:pre;overflow-x:auto;line-height:normal;font-family:Menlo,'DejaVu Sans Mono',consolas,'Courier New',monospace\">┏━━━━━━━━━━━━━━━━━━━━━━━━━━━━━━━━━┳━━━━━━━━━━━━━━━━━━━━━━━━┳━━━━━━━━━━━━━━━┓\n",
              "┃<span style=\"font-weight: bold\"> Layer (type)                    </span>┃<span style=\"font-weight: bold\"> Output Shape           </span>┃<span style=\"font-weight: bold\">       Param # </span>┃\n",
              "┡━━━━━━━━━━━━━━━━━━━━━━━━━━━━━━━━━╇━━━━━━━━━━━━━━━━━━━━━━━━╇━━━━━━━━━━━━━━━┩\n",
              "│ embedding_8 (<span style=\"color: #0087ff; text-decoration-color: #0087ff\">Embedding</span>)         │ (<span style=\"color: #00d7ff; text-decoration-color: #00d7ff\">None</span>, <span style=\"color: #00af00; text-decoration-color: #00af00\">400</span>, <span style=\"color: #00af00; text-decoration-color: #00af00\">256</span>)       │       <span style=\"color: #00af00; text-decoration-color: #00af00\">768,000</span> │\n",
              "├─────────────────────────────────┼────────────────────────┼───────────────┤\n",
              "│ bidirectional_16                │ (<span style=\"color: #00d7ff; text-decoration-color: #00d7ff\">None</span>, <span style=\"color: #00af00; text-decoration-color: #00af00\">400</span>, <span style=\"color: #00af00; text-decoration-color: #00af00\">256</span>)       │       <span style=\"color: #00af00; text-decoration-color: #00af00\">394,240</span> │\n",
              "│ (<span style=\"color: #0087ff; text-decoration-color: #0087ff\">Bidirectional</span>)                 │                        │               │\n",
              "├─────────────────────────────────┼────────────────────────┼───────────────┤\n",
              "│ bidirectional_17                │ (<span style=\"color: #00d7ff; text-decoration-color: #00d7ff\">None</span>, <span style=\"color: #00af00; text-decoration-color: #00af00\">128</span>)            │       <span style=\"color: #00af00; text-decoration-color: #00af00\">164,352</span> │\n",
              "│ (<span style=\"color: #0087ff; text-decoration-color: #0087ff\">Bidirectional</span>)                 │                        │               │\n",
              "├─────────────────────────────────┼────────────────────────┼───────────────┤\n",
              "│ dense_16 (<span style=\"color: #0087ff; text-decoration-color: #0087ff\">Dense</span>)                │ (<span style=\"color: #00d7ff; text-decoration-color: #00d7ff\">None</span>, <span style=\"color: #00af00; text-decoration-color: #00af00\">128</span>)            │        <span style=\"color: #00af00; text-decoration-color: #00af00\">16,512</span> │\n",
              "├─────────────────────────────────┼────────────────────────┼───────────────┤\n",
              "│ dropout_8 (<span style=\"color: #0087ff; text-decoration-color: #0087ff\">Dropout</span>)             │ (<span style=\"color: #00d7ff; text-decoration-color: #00d7ff\">None</span>, <span style=\"color: #00af00; text-decoration-color: #00af00\">128</span>)            │             <span style=\"color: #00af00; text-decoration-color: #00af00\">0</span> │\n",
              "├─────────────────────────────────┼────────────────────────┼───────────────┤\n",
              "│ dense_17 (<span style=\"color: #0087ff; text-decoration-color: #0087ff\">Dense</span>)                │ (<span style=\"color: #00d7ff; text-decoration-color: #00d7ff\">None</span>, <span style=\"color: #00af00; text-decoration-color: #00af00\">3</span>)              │           <span style=\"color: #00af00; text-decoration-color: #00af00\">387</span> │\n",
              "└─────────────────────────────────┴────────────────────────┴───────────────┘\n",
              "</pre>\n"
            ]
          },
          "metadata": {}
        },
        {
          "output_type": "display_data",
          "data": {
            "text/plain": [
              "\u001b[1m Total params: \u001b[0m\u001b[38;5;34m1,343,491\u001b[0m (5.13 MB)\n"
            ],
            "text/html": [
              "<pre style=\"white-space:pre;overflow-x:auto;line-height:normal;font-family:Menlo,'DejaVu Sans Mono',consolas,'Courier New',monospace\"><span style=\"font-weight: bold\"> Total params: </span><span style=\"color: #00af00; text-decoration-color: #00af00\">1,343,491</span> (5.13 MB)\n",
              "</pre>\n"
            ]
          },
          "metadata": {}
        },
        {
          "output_type": "display_data",
          "data": {
            "text/plain": [
              "\u001b[1m Trainable params: \u001b[0m\u001b[38;5;34m1,343,491\u001b[0m (5.13 MB)\n"
            ],
            "text/html": [
              "<pre style=\"white-space:pre;overflow-x:auto;line-height:normal;font-family:Menlo,'DejaVu Sans Mono',consolas,'Courier New',monospace\"><span style=\"font-weight: bold\"> Trainable params: </span><span style=\"color: #00af00; text-decoration-color: #00af00\">1,343,491</span> (5.13 MB)\n",
              "</pre>\n"
            ]
          },
          "metadata": {}
        },
        {
          "output_type": "display_data",
          "data": {
            "text/plain": [
              "\u001b[1m Non-trainable params: \u001b[0m\u001b[38;5;34m0\u001b[0m (0.00 B)\n"
            ],
            "text/html": [
              "<pre style=\"white-space:pre;overflow-x:auto;line-height:normal;font-family:Menlo,'DejaVu Sans Mono',consolas,'Courier New',monospace\"><span style=\"font-weight: bold\"> Non-trainable params: </span><span style=\"color: #00af00; text-decoration-color: #00af00\">0</span> (0.00 B)\n",
              "</pre>\n"
            ]
          },
          "metadata": {}
        }
      ]
    },
    {
      "cell_type": "markdown",
      "source": [
        "###Training the Model"
      ],
      "metadata": {
        "id": "7NqyZ91iOfm2"
      }
    },
    {
      "cell_type": "code",
      "source": [
        "history = model.fit(\n",
        "    X_train_pad, y_train_cat,\n",
        "    epochs=10,\n",
        "    batch_size=64,\n",
        "    validation_split=0.2,\n",
        "    verbose=1,\n",
        "    callbacks=[\n",
        "        tf.keras.callbacks.EarlyStopping(monitor='val_loss', patience=3),\n",
        "        tf.keras.callbacks.ModelCheckpoint('best_model.keras', save_best_only=True)\n",
        "    ]\n",
        ")"
      ],
      "metadata": {
        "colab": {
          "base_uri": "https://localhost:8080/"
        },
        "id": "QGYTZZUFn_Zc",
        "outputId": "87027878-35f0-4787-bef6-2c6304d90a62"
      },
      "execution_count": null,
      "outputs": [
        {
          "output_type": "stream",
          "name": "stdout",
          "text": [
            "Epoch 1/10\n",
            "\u001b[1m151/151\u001b[0m \u001b[32m━━━━━━━━━━━━━━━━━━━━\u001b[0m\u001b[37m\u001b[0m \u001b[1m20s\u001b[0m 104ms/step - accuracy: 0.4898 - loss: 1.0251 - val_accuracy: 0.7375 - val_loss: 0.7337\n",
            "Epoch 2/10\n",
            "\u001b[1m151/151\u001b[0m \u001b[32m━━━━━━━━━━━━━━━━━━━━\u001b[0m\u001b[37m\u001b[0m \u001b[1m15s\u001b[0m 101ms/step - accuracy: 0.7594 - loss: 0.6240 - val_accuracy: 0.8650 - val_loss: 0.3931\n",
            "Epoch 3/10\n",
            "\u001b[1m151/151\u001b[0m \u001b[32m━━━━━━━━━━━━━━━━━━━━\u001b[0m\u001b[37m\u001b[0m \u001b[1m19s\u001b[0m 91ms/step - accuracy: 0.8708 - loss: 0.3683 - val_accuracy: 0.8534 - val_loss: 0.3830\n",
            "Epoch 4/10\n",
            "\u001b[1m151/151\u001b[0m \u001b[32m━━━━━━━━━━━━━━━━━━━━\u001b[0m\u001b[37m\u001b[0m \u001b[1m20s\u001b[0m 91ms/step - accuracy: 0.8975 - loss: 0.2915 - val_accuracy: 0.8875 - val_loss: 0.3129\n",
            "Epoch 5/10\n",
            "\u001b[1m151/151\u001b[0m \u001b[32m━━━━━━━━━━━━━━━━━━━━\u001b[0m\u001b[37m\u001b[0m \u001b[1m14s\u001b[0m 91ms/step - accuracy: 0.9168 - loss: 0.2388 - val_accuracy: 0.8949 - val_loss: 0.3108\n",
            "Epoch 6/10\n",
            "\u001b[1m151/151\u001b[0m \u001b[32m━━━━━━━━━━━━━━━━━━━━\u001b[0m\u001b[37m\u001b[0m \u001b[1m21s\u001b[0m 91ms/step - accuracy: 0.9260 - loss: 0.2262 - val_accuracy: 0.8941 - val_loss: 0.3023\n",
            "Epoch 7/10\n",
            "\u001b[1m151/151\u001b[0m \u001b[32m━━━━━━━━━━━━━━━━━━━━\u001b[0m\u001b[37m\u001b[0m \u001b[1m22s\u001b[0m 100ms/step - accuracy: 0.9387 - loss: 0.1844 - val_accuracy: 0.8974 - val_loss: 0.2960\n",
            "Epoch 8/10\n",
            "\u001b[1m151/151\u001b[0m \u001b[32m━━━━━━━━━━━━━━━━━━━━\u001b[0m\u001b[37m\u001b[0m \u001b[1m19s\u001b[0m 91ms/step - accuracy: 0.9376 - loss: 0.1835 - val_accuracy: 0.8962 - val_loss: 0.3189\n",
            "Epoch 9/10\n",
            "\u001b[1m151/151\u001b[0m \u001b[32m━━━━━━━━━━━━━━━━━━━━\u001b[0m\u001b[37m\u001b[0m \u001b[1m22s\u001b[0m 99ms/step - accuracy: 0.9404 - loss: 0.1708 - val_accuracy: 0.9115 - val_loss: 0.3147\n",
            "Epoch 10/10\n",
            "\u001b[1m151/151\u001b[0m \u001b[32m━━━━━━━━━━━━━━━━━━━━\u001b[0m\u001b[37m\u001b[0m \u001b[1m21s\u001b[0m 99ms/step - accuracy: 0.9470 - loss: 0.1636 - val_accuracy: 0.9024 - val_loss: 0.3153\n"
          ]
        }
      ]
    },
    {
      "cell_type": "markdown",
      "source": [
        "###Plot the training graphs"
      ],
      "metadata": {
        "id": "43uLr6hJOjyH"
      }
    },
    {
      "cell_type": "code",
      "source": [
        "plt.figure(figsize=(12, 4))\n",
        "\n",
        "plt.subplot(1, 2, 1)\n",
        "plt.plot(history.history['accuracy'], label='Train Accuracy')\n",
        "plt.plot(history.history['val_accuracy'], label='Validation Accuracy')\n",
        "plt.title('Model Accuracy')\n",
        "plt.xlabel('Epoch')\n",
        "plt.ylabel('Accuracy')\n",
        "plt.legend()\n",
        "\n",
        "plt.subplot(1, 2, 2)\n",
        "plt.plot(history.history['loss'], label='Train Loss')\n",
        "plt.plot(history.history['val_loss'], label='Validation Loss')\n",
        "plt.title('Model Loss')\n",
        "plt.xlabel('Epoch')\n",
        "plt.ylabel('Loss')\n",
        "plt.legend()\n",
        "\n",
        "plt.tight_layout()\n",
        "plt.show()"
      ],
      "metadata": {
        "colab": {
          "base_uri": "https://localhost:8080/",
          "height": 407
        },
        "id": "CmjxHCekonFL",
        "outputId": "e4d820e2-a9a5-4711-a6a5-e7a6c490ed86"
      },
      "execution_count": null,
      "outputs": [
        {
          "output_type": "display_data",
          "data": {
            "text/plain": [
              "<Figure size 1200x400 with 2 Axes>"
            ],
            "image/png": "[encoded data removed]"
          },
          "metadata": {}
        }
      ]
    },
    {
      "cell_type": "markdown",
      "source": [
        "###Check O/P with sample text"
      ],
      "metadata": {
        "id": "Rclrm6FIOqiW"
      }
    },
    {
      "cell_type": "code",
      "source": [
        "# Function to predict the class of new text\n",
        "def predict_class(text, model, tokenizer):\n",
        "    # Convert to sequence\n",
        "    sequence = tokenizer.texts_to_sequences([text])\n",
        "    # Pad sequence\n",
        "    padded = pad_sequences(sequence, maxlen=max_sequence_length)\n",
        "    # Predict\n",
        "    prediction = model.predict(padded)\n",
        "    # Get class with highest probability\n",
        "    predicted_class = np.argmax(prediction, axis=1)[0]\n",
        "    # Map class index to label\n",
        "    class_names = {0: 'Science', 1: 'Math', 2: 'History'}\n",
        "    return class_names[predicted_class], prediction[0][predicted_class]"
      ],
      "metadata": {
        "id": "gldsGY9_oxsS"
      },
      "execution_count": null,
      "outputs": []
    },
    {
      "cell_type": "code",
      "source": [
        "# Test with some examples\n",
        "example_texts = [\n",
        "    \"The gravitational force between two objects is directly proportional to the product of their masses.\",\n",
        "    \"To solve this equation, we need to find the derivative of the function and set it equal to zero.\",\n",
        "    \"The Roman Empire reached its greatest extent during the reign of Emperor Trajan.\"\n",
        "]\n",
        "\n",
        "for text in example_texts:\n",
        "    predicted_class, confidence = predict_class(text, model, tokenizer)\n",
        "    print(f\"Text: {text}\")\n",
        "    print(f\"Predicted class: {predicted_class} (Confidence: {confidence:.4f})\")\n",
        "    print()"
      ],
      "metadata": {
        "colab": {
          "base_uri": "https://localhost:8080/"
        },
        "id": "KKl8FsSzo0NW",
        "outputId": "c24be178-b7c7-4459-91f4-9c9700609db8"
      },
      "execution_count": null,
      "outputs": [
        {
          "output_type": "stream",
          "name": "stdout",
          "text": [
            "\u001b[1m1/1\u001b[0m \u001b[32m━━━━━━━━━━━━━━━━━━━━\u001b[0m\u001b[37m\u001b[0m \u001b[1m0s\u001b[0m 441ms/step\n",
            "Text: The gravitational force between two objects is directly proportional to the product of their masses.\n",
            "Predicted class: Science (Confidence: 0.9646)\n",
            "\n",
            "\u001b[1m1/1\u001b[0m \u001b[32m━━━━━━━━━━━━━━━━━━━━\u001b[0m\u001b[37m\u001b[0m \u001b[1m0s\u001b[0m 48ms/step\n",
            "Text: To solve this equation, we need to find the derivative of the function and set it equal to zero.\n",
            "Predicted class: Math (Confidence: 0.9993)\n",
            "\n",
            "\u001b[1m1/1\u001b[0m \u001b[32m━━━━━━━━━━━━━━━━━━━━\u001b[0m\u001b[37m\u001b[0m \u001b[1m0s\u001b[0m 49ms/step\n",
            "Text: The Roman Empire reached its greatest extent during the reign of Emperor Trajan.\n",
            "Predicted class: History (Confidence: 0.9970)\n",
            "\n"
          ]
        }
      ]
    },
    {
      "cell_type": "markdown",
      "source": [
        "###Classification Report"
      ],
      "metadata": {
        "id": "wxhsiz8nOwZv"
      }
    },
    {
      "cell_type": "code",
      "source": [
        "y_pred = model.predict(X_test_pad)\n",
        "y_pred_classes = np.argmax(y_pred, axis=1)\n",
        "y_test_classes = np.argmax(y_test_cat, axis=1)\n",
        "\n",
        "# Generate classification report\n",
        "class_names = ['Science', 'Math', 'History']\n",
        "report = classification_report(y_test_classes, y_pred_classes, target_names=class_names)\n",
        "print(report)"
      ],
      "metadata": {
        "colab": {
          "base_uri": "https://localhost:8080/"
        },
        "id": "wF5kbm5EpEq2",
        "outputId": "077b0f9a-516e-42ae-f475-c6cc9fa58d56"
      },
      "execution_count": null,
      "outputs": [
        {
          "output_type": "stream",
          "name": "stdout",
          "text": [
            "\u001b[1m95/95\u001b[0m \u001b[32m━━━━━━━━━━━━━━━━━━━━\u001b[0m\u001b[37m\u001b[0m \u001b[1m3s\u001b[0m 26ms/step\n",
            "              precision    recall  f1-score   support\n",
            "\n",
            "     Science       0.85      0.88      0.86       989\n",
            "        Math       0.94      0.93      0.93      1013\n",
            "     History       0.89      0.87      0.88      1009\n",
            "\n",
            "    accuracy                           0.89      3011\n",
            "   macro avg       0.89      0.89      0.89      3011\n",
            "weighted avg       0.89      0.89      0.89      3011\n",
            "\n"
          ]
        }
      ]
    }
  ]
}